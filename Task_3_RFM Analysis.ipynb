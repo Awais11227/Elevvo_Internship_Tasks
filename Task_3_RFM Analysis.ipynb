{
 "cells": [
  {
   "cell_type": "markdown",
   "id": "5c5d8ed0",
   "metadata": {},
   "source": [
    "# Customer Segmentation Using RFM Analysis \n",
    "\n",
    "# **Author: Awais Manzoor**"
   ]
  },
  {
   "cell_type": "markdown",
   "id": "0186d897",
   "metadata": {},
   "source": [
    "## Import Libraries"
   ]
  },
  {
   "cell_type": "code",
   "execution_count": 3,
   "id": "c03a4f2d",
   "metadata": {},
   "outputs": [],
   "source": [
    "import pandas as pd\n",
    "import numpy as np\n",
    "import matplotlib.pyplot as plt\n",
    "import seaborn as sns\n",
    "\n",
    "# Display settings\n",
    "pd.set_option('display.float_format', lambda x: '%.2f' % x)"
   ]
  },
  {
   "cell_type": "markdown",
   "id": "b8966b4e",
   "metadata": {},
   "source": [
    "## Step 1: Load the Dataset  \n",
    "- We load the Online Retail dataset directly from the Excel file.  \n",
    "- This dataset contains transactions from a UK-based retailer between 2010–2011.  \n"
   ]
  },
  {
   "cell_type": "code",
   "execution_count": 4,
   "id": "fca43713",
   "metadata": {},
   "outputs": [
    {
     "data": {
      "application/vnd.microsoft.datawrangler.viewer.v0+json": {
       "columns": [
        {
         "name": "index",
         "rawType": "int64",
         "type": "integer"
        },
        {
         "name": "InvoiceNo",
         "rawType": "object",
         "type": "unknown"
        },
        {
         "name": "StockCode",
         "rawType": "object",
         "type": "unknown"
        },
        {
         "name": "Description",
         "rawType": "object",
         "type": "string"
        },
        {
         "name": "Quantity",
         "rawType": "int64",
         "type": "integer"
        },
        {
         "name": "InvoiceDate",
         "rawType": "datetime64[ns]",
         "type": "datetime"
        },
        {
         "name": "UnitPrice",
         "rawType": "float64",
         "type": "float"
        },
        {
         "name": "CustomerID",
         "rawType": "float64",
         "type": "float"
        },
        {
         "name": "Country",
         "rawType": "object",
         "type": "string"
        }
       ],
       "ref": "30d09ab5-0e04-4bb6-9211-872253b1d720",
       "rows": [
        [
         "0",
         "536365",
         "85123A",
         "WHITE HANGING HEART T-LIGHT HOLDER",
         "6",
         "2010-12-01 08:26:00",
         "2.55",
         "17850.0",
         "United Kingdom"
        ],
        [
         "1",
         "536365",
         "71053",
         "WHITE METAL LANTERN",
         "6",
         "2010-12-01 08:26:00",
         "3.39",
         "17850.0",
         "United Kingdom"
        ],
        [
         "2",
         "536365",
         "84406B",
         "CREAM CUPID HEARTS COAT HANGER",
         "8",
         "2010-12-01 08:26:00",
         "2.75",
         "17850.0",
         "United Kingdom"
        ],
        [
         "3",
         "536365",
         "84029G",
         "KNITTED UNION FLAG HOT WATER BOTTLE",
         "6",
         "2010-12-01 08:26:00",
         "3.39",
         "17850.0",
         "United Kingdom"
        ],
        [
         "4",
         "536365",
         "84029E",
         "RED WOOLLY HOTTIE WHITE HEART.",
         "6",
         "2010-12-01 08:26:00",
         "3.39",
         "17850.0",
         "United Kingdom"
        ]
       ],
       "shape": {
        "columns": 8,
        "rows": 5
       }
      },
      "text/html": [
       "<div>\n",
       "<style scoped>\n",
       "    .dataframe tbody tr th:only-of-type {\n",
       "        vertical-align: middle;\n",
       "    }\n",
       "\n",
       "    .dataframe tbody tr th {\n",
       "        vertical-align: top;\n",
       "    }\n",
       "\n",
       "    .dataframe thead th {\n",
       "        text-align: right;\n",
       "    }\n",
       "</style>\n",
       "<table border=\"1\" class=\"dataframe\">\n",
       "  <thead>\n",
       "    <tr style=\"text-align: right;\">\n",
       "      <th></th>\n",
       "      <th>InvoiceNo</th>\n",
       "      <th>StockCode</th>\n",
       "      <th>Description</th>\n",
       "      <th>Quantity</th>\n",
       "      <th>InvoiceDate</th>\n",
       "      <th>UnitPrice</th>\n",
       "      <th>CustomerID</th>\n",
       "      <th>Country</th>\n",
       "    </tr>\n",
       "  </thead>\n",
       "  <tbody>\n",
       "    <tr>\n",
       "      <th>0</th>\n",
       "      <td>536365</td>\n",
       "      <td>85123A</td>\n",
       "      <td>WHITE HANGING HEART T-LIGHT HOLDER</td>\n",
       "      <td>6</td>\n",
       "      <td>2010-12-01 08:26:00</td>\n",
       "      <td>2.55</td>\n",
       "      <td>17850.00</td>\n",
       "      <td>United Kingdom</td>\n",
       "    </tr>\n",
       "    <tr>\n",
       "      <th>1</th>\n",
       "      <td>536365</td>\n",
       "      <td>71053</td>\n",
       "      <td>WHITE METAL LANTERN</td>\n",
       "      <td>6</td>\n",
       "      <td>2010-12-01 08:26:00</td>\n",
       "      <td>3.39</td>\n",
       "      <td>17850.00</td>\n",
       "      <td>United Kingdom</td>\n",
       "    </tr>\n",
       "    <tr>\n",
       "      <th>2</th>\n",
       "      <td>536365</td>\n",
       "      <td>84406B</td>\n",
       "      <td>CREAM CUPID HEARTS COAT HANGER</td>\n",
       "      <td>8</td>\n",
       "      <td>2010-12-01 08:26:00</td>\n",
       "      <td>2.75</td>\n",
       "      <td>17850.00</td>\n",
       "      <td>United Kingdom</td>\n",
       "    </tr>\n",
       "    <tr>\n",
       "      <th>3</th>\n",
       "      <td>536365</td>\n",
       "      <td>84029G</td>\n",
       "      <td>KNITTED UNION FLAG HOT WATER BOTTLE</td>\n",
       "      <td>6</td>\n",
       "      <td>2010-12-01 08:26:00</td>\n",
       "      <td>3.39</td>\n",
       "      <td>17850.00</td>\n",
       "      <td>United Kingdom</td>\n",
       "    </tr>\n",
       "    <tr>\n",
       "      <th>4</th>\n",
       "      <td>536365</td>\n",
       "      <td>84029E</td>\n",
       "      <td>RED WOOLLY HOTTIE WHITE HEART.</td>\n",
       "      <td>6</td>\n",
       "      <td>2010-12-01 08:26:00</td>\n",
       "      <td>3.39</td>\n",
       "      <td>17850.00</td>\n",
       "      <td>United Kingdom</td>\n",
       "    </tr>\n",
       "  </tbody>\n",
       "</table>\n",
       "</div>"
      ],
      "text/plain": [
       "  InvoiceNo StockCode                          Description  Quantity  \\\n",
       "0    536365    85123A   WHITE HANGING HEART T-LIGHT HOLDER         6   \n",
       "1    536365     71053                  WHITE METAL LANTERN         6   \n",
       "2    536365    84406B       CREAM CUPID HEARTS COAT HANGER         8   \n",
       "3    536365    84029G  KNITTED UNION FLAG HOT WATER BOTTLE         6   \n",
       "4    536365    84029E       RED WOOLLY HOTTIE WHITE HEART.         6   \n",
       "\n",
       "          InvoiceDate  UnitPrice  CustomerID         Country  \n",
       "0 2010-12-01 08:26:00       2.55    17850.00  United Kingdom  \n",
       "1 2010-12-01 08:26:00       3.39    17850.00  United Kingdom  \n",
       "2 2010-12-01 08:26:00       2.75    17850.00  United Kingdom  \n",
       "3 2010-12-01 08:26:00       3.39    17850.00  United Kingdom  \n",
       "4 2010-12-01 08:26:00       3.39    17850.00  United Kingdom  "
      ]
     },
     "execution_count": 4,
     "metadata": {},
     "output_type": "execute_result"
    }
   ],
   "source": [
    "\n",
    "# Load Excel file directly\n",
    "df = pd.read_excel(\"Online Retail.xlsx\")\n",
    "\n",
    "df.head()\n"
   ]
  },
  {
   "cell_type": "markdown",
   "id": "766282e3",
   "metadata": {},
   "source": [
    "# Step 2: Data Cleaning  \n",
    "- We remove missing Customer IDs, filter out cancelled invoices,  \n",
    "- and create a new column `TotalPrice = Quantity * UnitPrice`.\n"
   ]
  },
  {
   "cell_type": "code",
   "execution_count": 7,
   "id": "32328b82",
   "metadata": {},
   "outputs": [
    {
     "name": "stdout",
     "output_type": "stream",
     "text": [
      "<class 'pandas.core.frame.DataFrame'>\n",
      "Index: 397924 entries, 0 to 541908\n",
      "Data columns (total 9 columns):\n",
      " #   Column       Non-Null Count   Dtype         \n",
      "---  ------       --------------   -----         \n",
      " 0   InvoiceNo    397924 non-null  object        \n",
      " 1   StockCode    397924 non-null  object        \n",
      " 2   Description  397924 non-null  object        \n",
      " 3   Quantity     397924 non-null  int64         \n",
      " 4   InvoiceDate  397924 non-null  datetime64[ns]\n",
      " 5   UnitPrice    397924 non-null  float64       \n",
      " 6   CustomerID   397924 non-null  float64       \n",
      " 7   Country      397924 non-null  object        \n",
      " 8   TotalPrice   397924 non-null  float64       \n",
      "dtypes: datetime64[ns](1), float64(3), int64(1), object(4)\n",
      "memory usage: 30.4+ MB\n"
     ]
    }
   ],
   "source": [
    "df.info()"
   ]
  },
  {
   "cell_type": "code",
   "execution_count": 8,
   "id": "81f46bcb",
   "metadata": {},
   "outputs": [
    {
     "data": {
      "application/vnd.microsoft.datawrangler.viewer.v0+json": {
       "columns": [
        {
         "name": "index",
         "rawType": "object",
         "type": "string"
        },
        {
         "name": "Quantity",
         "rawType": "float64",
         "type": "float"
        },
        {
         "name": "InvoiceDate",
         "rawType": "object",
         "type": "unknown"
        },
        {
         "name": "UnitPrice",
         "rawType": "float64",
         "type": "float"
        },
        {
         "name": "CustomerID",
         "rawType": "float64",
         "type": "float"
        },
        {
         "name": "TotalPrice",
         "rawType": "float64",
         "type": "float"
        }
       ],
       "ref": "2307fbc5-6838-4954-80c0-563bc5d62033",
       "rows": [
        [
         "count",
         "397924.0",
         "397924",
         "397924.0",
         "397924.0",
         "397924.0"
        ],
        [
         "mean",
         "13.021823262733587",
         "2011-07-10 23:43:36.912475648",
         "3.1161744805540756",
         "15294.315170736121",
         "22.394748504739596"
        ],
        [
         "min",
         "1.0",
         "2010-12-01 08:26:00",
         "0.0",
         "12346.0",
         "0.0"
        ],
        [
         "25%",
         "2.0",
         "2011-04-07 11:12:00",
         "1.25",
         "13969.0",
         "4.68"
        ],
        [
         "50%",
         "6.0",
         "2011-07-31 14:39:00",
         "1.95",
         "15159.0",
         "11.8"
        ],
        [
         "75%",
         "12.0",
         "2011-10-20 14:33:00",
         "3.75",
         "16795.0",
         "19.799999999999997"
        ],
        [
         "max",
         "80995.0",
         "2011-12-09 12:50:00",
         "8142.75",
         "18287.0",
         "168469.6"
        ],
        [
         "std",
         "180.4202099169813",
         null,
         "22.09678803168584",
         "1713.1698773382186",
         "309.0555883801398"
        ]
       ],
       "shape": {
        "columns": 5,
        "rows": 8
       }
      },
      "text/html": [
       "<div>\n",
       "<style scoped>\n",
       "    .dataframe tbody tr th:only-of-type {\n",
       "        vertical-align: middle;\n",
       "    }\n",
       "\n",
       "    .dataframe tbody tr th {\n",
       "        vertical-align: top;\n",
       "    }\n",
       "\n",
       "    .dataframe thead th {\n",
       "        text-align: right;\n",
       "    }\n",
       "</style>\n",
       "<table border=\"1\" class=\"dataframe\">\n",
       "  <thead>\n",
       "    <tr style=\"text-align: right;\">\n",
       "      <th></th>\n",
       "      <th>Quantity</th>\n",
       "      <th>InvoiceDate</th>\n",
       "      <th>UnitPrice</th>\n",
       "      <th>CustomerID</th>\n",
       "      <th>TotalPrice</th>\n",
       "    </tr>\n",
       "  </thead>\n",
       "  <tbody>\n",
       "    <tr>\n",
       "      <th>count</th>\n",
       "      <td>397924.00</td>\n",
       "      <td>397924</td>\n",
       "      <td>397924.00</td>\n",
       "      <td>397924.00</td>\n",
       "      <td>397924.00</td>\n",
       "    </tr>\n",
       "    <tr>\n",
       "      <th>mean</th>\n",
       "      <td>13.02</td>\n",
       "      <td>2011-07-10 23:43:36.912475648</td>\n",
       "      <td>3.12</td>\n",
       "      <td>15294.32</td>\n",
       "      <td>22.39</td>\n",
       "    </tr>\n",
       "    <tr>\n",
       "      <th>min</th>\n",
       "      <td>1.00</td>\n",
       "      <td>2010-12-01 08:26:00</td>\n",
       "      <td>0.00</td>\n",
       "      <td>12346.00</td>\n",
       "      <td>0.00</td>\n",
       "    </tr>\n",
       "    <tr>\n",
       "      <th>25%</th>\n",
       "      <td>2.00</td>\n",
       "      <td>2011-04-07 11:12:00</td>\n",
       "      <td>1.25</td>\n",
       "      <td>13969.00</td>\n",
       "      <td>4.68</td>\n",
       "    </tr>\n",
       "    <tr>\n",
       "      <th>50%</th>\n",
       "      <td>6.00</td>\n",
       "      <td>2011-07-31 14:39:00</td>\n",
       "      <td>1.95</td>\n",
       "      <td>15159.00</td>\n",
       "      <td>11.80</td>\n",
       "    </tr>\n",
       "    <tr>\n",
       "      <th>75%</th>\n",
       "      <td>12.00</td>\n",
       "      <td>2011-10-20 14:33:00</td>\n",
       "      <td>3.75</td>\n",
       "      <td>16795.00</td>\n",
       "      <td>19.80</td>\n",
       "    </tr>\n",
       "    <tr>\n",
       "      <th>max</th>\n",
       "      <td>80995.00</td>\n",
       "      <td>2011-12-09 12:50:00</td>\n",
       "      <td>8142.75</td>\n",
       "      <td>18287.00</td>\n",
       "      <td>168469.60</td>\n",
       "    </tr>\n",
       "    <tr>\n",
       "      <th>std</th>\n",
       "      <td>180.42</td>\n",
       "      <td>NaN</td>\n",
       "      <td>22.10</td>\n",
       "      <td>1713.17</td>\n",
       "      <td>309.06</td>\n",
       "    </tr>\n",
       "  </tbody>\n",
       "</table>\n",
       "</div>"
      ],
      "text/plain": [
       "       Quantity                    InvoiceDate  UnitPrice  CustomerID  \\\n",
       "count 397924.00                         397924  397924.00   397924.00   \n",
       "mean      13.02  2011-07-10 23:43:36.912475648       3.12    15294.32   \n",
       "min        1.00            2010-12-01 08:26:00       0.00    12346.00   \n",
       "25%        2.00            2011-04-07 11:12:00       1.25    13969.00   \n",
       "50%        6.00            2011-07-31 14:39:00       1.95    15159.00   \n",
       "75%       12.00            2011-10-20 14:33:00       3.75    16795.00   \n",
       "max    80995.00            2011-12-09 12:50:00    8142.75    18287.00   \n",
       "std      180.42                            NaN      22.10     1713.17   \n",
       "\n",
       "       TotalPrice  \n",
       "count   397924.00  \n",
       "mean        22.39  \n",
       "min          0.00  \n",
       "25%          4.68  \n",
       "50%         11.80  \n",
       "75%         19.80  \n",
       "max     168469.60  \n",
       "std        309.06  "
      ]
     },
     "execution_count": 8,
     "metadata": {},
     "output_type": "execute_result"
    }
   ],
   "source": [
    "df.describe()"
   ]
  },
  {
   "cell_type": "code",
   "execution_count": null,
   "id": "eb51955a",
   "metadata": {},
   "outputs": [],
   "source": [
    "df = df.dropna(subset=[\"CustomerID\"])\n",
    "df = df[~df[\"InvoiceNo\"].astype(str).str.startswith(\"C\")]\n",
    "\n",
    "# Calculate TotalPrice\n",
    "df[\"TotalPrice\"] = df[\"Quantity\"] * df[\"UnitPrice\"]\n",
    "\n"
   ]
  },
  {
   "cell_type": "code",
   "execution_count": 6,
   "id": "1dd41574",
   "metadata": {},
   "outputs": [],
   "source": [
    "# Convert InvoiceDate to datetime\n",
    "df[\"InvoiceDate\"] = pd.to_datetime(df[\"InvoiceDate\"])"
   ]
  },
  {
   "cell_type": "markdown",
   "id": "0ccc8173",
   "metadata": {},
   "source": [
    "\n",
    "# RFM Table  \n",
    "- Compute Recency (days since last purchase), Frequency (unique invoices), and Monetary (total spend) for each customer.  \n"
   ]
  },
  {
   "cell_type": "code",
   "execution_count": 9,
   "id": "b7487e7f",
   "metadata": {},
   "outputs": [],
   "source": [
    "reference_date = df[\"InvoiceDate\"].max() + pd.Timedelta(days=1)\n",
    "\n",
    "rfm = df.groupby(\"CustomerID\").agg({\n",
    "    \"InvoiceDate\": lambda x: (reference_date - x.max()).days,\n",
    "    \"InvoiceNo\": \"nunique\",\n",
    "    \"TotalPrice\": \"sum\"\n",
    "}).reset_index()\n",
    "\n",
    "rfm.columns = [\"CustomerID\", \"Recency\", \"Frequency\", \"Monetary\"]\n"
   ]
  },
  {
   "cell_type": "markdown",
   "id": "70e01098",
   "metadata": {},
   "source": [
    "# RFM Scoring  \n",
    "-  Assign scores (1–5) for Recency, Frequency, and Monetary, then combine them into RFM Segment and RFM Score.  \n"
   ]
  },
  {
   "cell_type": "code",
   "execution_count": 10,
   "id": "80c3de31",
   "metadata": {},
   "outputs": [],
   "source": [
    "# Score each column: 1 (low) to 5 (high)\n",
    "rfm[\"R_Score\"] = pd.qcut(rfm[\"Recency\"], 5, labels=[5, 4, 3, 2, 1]).astype(int)\n",
    "rfm[\"F_Score\"] = pd.qcut(rfm[\"Frequency\"].rank(method=\"first\"), 5, labels=[1, 2, 3, 4, 5]).astype(int)\n",
    "rfm[\"M_Score\"] = pd.qcut(rfm[\"Monetary\"], 5, labels=[1, 2, 3, 4, 5]).astype(int)\n",
    "\n",
    "# Combine RFM Scores\n",
    "rfm[\"RFM_Segment\"] = rfm[\"R_Score\"].astype(str) + rfm[\"F_Score\"].astype(str) + rfm[\"M_Score\"].astype(str)\n",
    "rfm[\"RFM_Score\"] = rfm[[\"R_Score\", \"F_Score\", \"M_Score\"]].sum(axis=1)\n"
   ]
  },
  {
   "cell_type": "markdown",
   "id": "ff3a85e7",
   "metadata": {},
   "source": [
    "# Segment Customers"
   ]
  },
  {
   "cell_type": "code",
   "execution_count": 11,
   "id": "d836b89d",
   "metadata": {},
   "outputs": [],
   "source": [
    "def segment_customer(score):\n",
    "    if score >= 9:\n",
    "        return 'Champions'\n",
    "    elif score >= 7:\n",
    "        return 'Loyal'\n",
    "    elif score >= 5:\n",
    "        return 'Potential'\n",
    "    else:\n",
    "        return 'At Risk'\n",
    "\n",
    "rfm[\"Segment\"] = rfm[\"RFM_Score\"].apply(segment_customer)\n"
   ]
  },
  {
   "cell_type": "markdown",
   "id": "16c8ee3d",
   "metadata": {},
   "source": [
    "# Visualize RFM \n",
    "# Bar plot of customer segments\n"
   ]
  },
  {
   "cell_type": "code",
   "execution_count": 16,
   "id": "d1c67050",
   "metadata": {},
   "outputs": [
    {
     "name": "stderr",
     "output_type": "stream",
     "text": [
      "C:\\Users\\hp\\AppData\\Local\\Temp\\ipykernel_16092\\3230745055.py:3: FutureWarning: \n",
      "\n",
      "Passing `palette` without assigning `hue` is deprecated and will be removed in v0.14.0. Assign the `x` variable to `hue` and set `legend=False` for the same effect.\n",
      "\n",
      "  sns.countplot(\n"
     ]
    },
    {
     "data": {
      "image/png": "[encoded data removed]",
      "text/plain": [
       "<Figure size 1000x600 with 1 Axes>"
      ]
     },
     "metadata": {},
     "output_type": "display_data"
    }
   ],
   "source": [
    "# 1) Bar chart — customers per segment\n",
    "plt.figure(figsize=(10,6))\n",
    "sns.countplot(\n",
    "    data=rfm,\n",
    "    x=\"Segment\",\n",
    "    order=rfm[\"Segment\"].value_counts().index,\n",
    "    palette=\"Set2\"\n",
    ")\n",
    "plt.title(\"Customers per Segment\", fontsize=14)\n",
    "plt.xlabel(\"Segment\")\n",
    "plt.ylabel(\"Number of Customers\")\n",
    "plt.xticks(rotation=20)\n",
    "plt.tight_layout()\n",
    "plt.show()\n"
   ]
  },
  {
   "cell_type": "markdown",
   "id": "7f700ef9",
   "metadata": {},
   "source": [
    "#  Heatmap — average R, F, M by segment\n"
   ]
  },
  {
   "cell_type": "code",
   "execution_count": 18,
   "id": "243664e3",
   "metadata": {},
   "outputs": [
    {
     "data": {
      "image/png": "[encoded data removed]",
      "text/plain": [
       "<Figure size 800x500 with 2 Axes>"
      ]
     },
     "metadata": {},
     "output_type": "display_data"
    }
   ],
   "source": [
    "rfm_means = rfm.groupby(\"Segment\")[[\"Recency\",\"Frequency\",\"Monetary\"]].mean().round(1)\n",
    "\n",
    "plt.figure(figsize=(8,5))\n",
    "sns.heatmap(\n",
    "    rfm_means,\n",
    "    annot=True,\n",
    "    fmt=\".1f\",\n",
    "    cmap=\"coolwarm\"\n",
    ")\n",
    "plt.title(\"Average RFM by Segment\", fontsize=14)\n",
    "plt.xlabel(\"Metric\")\n",
    "plt.ylabel(\"Segment\")\n",
    "plt.tight_layout()\n",
    "plt.show()\n"
   ]
  },
  {
   "cell_type": "markdown",
   "id": "1c43d14c",
   "metadata": {},
   "source": [
    "#  Heatmap — Monetary by Recency × Frequency grid"
   ]
  },
  {
   "cell_type": "code",
   "execution_count": 21,
   "id": "c0ca4fc2",
   "metadata": {},
   "outputs": [
    {
     "data": {
      "image/png": "[encoded data removed]",
      "text/plain": [
       "<Figure size 700x500 with 2 Axes>"
      ]
     },
     "metadata": {},
     "output_type": "display_data"
    }
   ],
   "source": [
    "#  R_Score and F_Score (1–5). \n",
    "rfm[\"R_Score\"] = pd.qcut(rfm[\"Recency\"], 5, labels=[5,4,3,2,1]).astype(int)\n",
    "rfm[\"F_Score\"] = pd.qcut(rfm[\"Frequency\"].rank(method=\"first\"), 5, labels=[1,2,3,4,5]).astype(int)\n",
    "\n",
    "rf_grid = (\n",
    "    rfm\n",
    "    .groupby([\"R_Score\",\"F_Score\"])[\"Monetary\"]\n",
    "    .mean()\n",
    "    .reset_index()\n",
    "    .pivot(index=\"R_Score\", columns=\"F_Score\", values=\"Monetary\")\n",
    "    .sort_index(ascending=False)  # High R_Score (more recent) at top\n",
    ")\n",
    "\n",
    "plt.figure(figsize=(7,5))\n",
    "sns.heatmap(\n",
    "    rf_grid,\n",
    "    annot=True,\n",
    "    fmt=\".0f\",\n",
    "    cmap=\"mako\"\n",
    ")\n",
    "plt.title(\"Avg Monetary by Recency × Frequency Scores\", fontsize=14)\n",
    "plt.xlabel(\"F_Score (Frequency ↑)\")\n",
    "plt.ylabel(\"R_Score (Recency ↑)\")\n",
    "plt.tight_layout()\n",
    "plt.show()\n"
   ]
  },
  {
   "cell_type": "markdown",
   "id": "e0cd4d1b",
   "metadata": {},
   "source": [
    "## Customer Segments and Marketing Approaches  \n",
    "\n",
    "### Champions  \n",
    "These are your most valuable customers. Keep them engaged with loyalty rewards, exclusive offers, and early access to new products.  \n",
    "\n",
    "### Loyal Customers  \n",
    "They already trust your brand. Strengthen the relationship with personalized recommendations and consistent communication.  \n",
    "\n",
    "### Potential Loyalists  \n",
    "This group shows promise. Convert them into long-term customers by offering special promotions, onboarding campaigns, and tailored deals.  \n",
    "\n",
    "### At Risk  \n",
    "These customers are slipping away. Win them back through re-engagement campaigns such as limited-time discounts, reminder emails, and personalized outreach.  \n"
   ]
  }
 ],
 "metadata": {
  "kernelspec": {
   "display_name": "Python 3",
   "language": "python",
   "name": "python3"
  },
  "language_info": {
   "codemirror_mode": {
    "name": "ipython",
    "version": 3
   },
   "file_extension": ".py",
   "mimetype": "text/x-python",
   "name": "python",
   "nbconvert_exporter": "python",
   "pygments_lexer": "ipython3",
   "version": "3.12.2"
  }
 },
 "nbformat": 4,
 "nbformat_minor": 5
}
